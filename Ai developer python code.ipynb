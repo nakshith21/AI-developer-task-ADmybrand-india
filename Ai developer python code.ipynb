{
  "nbformat": 4,
  "nbformat_minor": 0,
  "metadata": {
    "colab": {
      "provenance": [],
      "authorship_tag": "ABX9TyOYpAqBiRGHRfmuR/2zkPgs",
      "include_colab_link": true
    },
    "kernelspec": {
      "name": "python3",
      "display_name": "Python 3"
    },
    "language_info": {
      "name": "python"
    }
  },
  "cells": [
    {
      "cell_type": "markdown",
      "metadata": {
        "id": "view-in-github",
        "colab_type": "text"
      },
      "source": [
        "<a href=\"https://colab.research.google.com/github/nakshith21/AI-developer-task-ADmybrand-india/blob/main/Ai%20developer%20puthon%20code.ipynb\" target=\"_parent\"><img src=\"https://colab.research.google.com/assets/colab-badge.svg\" alt=\"Open In Colab\"/></a>"
      ]
    },
    {
      "cell_type": "code",
      "execution_count": 1,
      "metadata": {
        "colab": {
          "base_uri": "https://localhost:8080/"
        },
        "id": "iwltXVtDDHiO",
        "outputId": "791f2860-5583-4222-962b-b5af697d39d1"
      },
      "outputs": [
        {
          "output_type": "stream",
          "name": "stdout",
          "text": [
            "As I stepped into the time machine, I felt a rush of excitement and fear. I had always dreamed of traveling through time, but I knew that it was a dangerous and unpredictable journey. But as I arrived in the past, I realized that the adventure was far more thrilling than I had ever imagined...The experience changed me in ways I never expected, and I knew that I would never forget it. It was an adventure that would stay with me forever.\n"
          ]
        }
      ],
      "source": [
        "import random\n",
        "\n",
        "# Define a list of prompts\n",
        "prompts = [\n",
        "    \"a haunted house\",\n",
        "    \"an unexpected visitor\",\n",
        "    \"a time travel adventure\"\n",
        "]\n",
        "\n",
        "# Define a function to generate a story based on a prompt\n",
        "def generate_story(prompt):\n",
        "    story = \"\"\n",
        "    if prompt == \"a haunted house\":\n",
        "        story += \"As I approached the old mansion on the hill, I felt a chill run down my spine. The house was said to be haunted by the ghost of its former owner, who had died under mysterious circumstances. But as I stepped inside, I realized that the truth was far more sinister than I had ever imagined...\"\n",
        "    elif prompt == \"an unexpected visitor\":\n",
        "        story += \"I was sitting alone in my apartment when I heard a knock at the door. I wasn't expecting anyone, so I was surprised to see a stranger standing on my doorstep. As I invited them in, I had no idea that they were about to change my life forever...\"\n",
        "    elif prompt == \"a time travel adventure\":\n",
        "        story += \"As I stepped into the time machine, I felt a rush of excitement and fear. I had always dreamed of traveling through time, but I knew that it was a dangerous and unpredictable journey. But as I arrived in the past, I realized that the adventure was far more thrilling than I had ever imagined...\"\n",
        "    # Add more twists and turns to the story\n",
        "    story += \"The experience changed me in ways I never expected, and I knew that I would never forget it. It was an adventure that would stay with me forever.\"\n",
        "    return story\n",
        "\n",
        "# Choose a random prompt from the list\n",
        "prompt = random.choice(prompts)\n",
        "# Generate a story based on the chosen prompt\n",
        "story = generate_story(prompt)\n",
        "# Print the story to the console\n",
        "print(story)\n"
      ]
    }
  ]
}
